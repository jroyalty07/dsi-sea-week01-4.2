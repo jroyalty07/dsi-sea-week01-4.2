{
 "cells": [
  {
   "cell_type": "code",
   "execution_count": 3,
   "metadata": {
    "collapsed": false
   },
   "outputs": [],
   "source": [
    "# import numpy\n",
    "# create array x\n",
    "\n",
    "import numpy as np\n",
    "\n",
    "x = np.array([1,2,3,4,5])\n"
   ]
  },
  {
   "cell_type": "code",
   "execution_count": 4,
   "metadata": {
    "collapsed": false
   },
   "outputs": [
    {
     "name": "stdout",
     "output_type": "stream",
     "text": [
      "(5,)\n"
     ]
    }
   ],
   "source": [
    "# print the shape of x\n",
    "print np.shape(x)"
   ]
  },
  {
   "cell_type": "code",
   "execution_count": 69,
   "metadata": {
    "collapsed": false
   },
   "outputs": [
    {
     "name": "stdout",
     "output_type": "stream",
     "text": [
      "[[ 2  5  3  4]\n",
      " [ 6  6  7  8]\n",
      " [ 9 10 11 12]]\n"
     ]
    }
   ],
   "source": [
    "# create a two dimensional array\n",
    "twoD = np.array([[2,5,3,4],[6,6,7,8],[9,10,11,12]])\n",
    "print twoD"
   ]
  },
  {
   "cell_type": "code",
   "execution_count": 70,
   "metadata": {
    "collapsed": false
   },
   "outputs": [
    {
     "name": "stdout",
     "output_type": "stream",
     "text": [
      "(3, 4)\n"
     ]
    }
   ],
   "source": [
    "# print shape of 2d array\n",
    "print np.shape(twoD)"
   ]
  },
  {
   "cell_type": "code",
   "execution_count": 71,
   "metadata": {
    "collapsed": false
   },
   "outputs": [
    {
     "name": "stdout",
     "output_type": "stream",
     "text": [
      "[[ 2  5  3  4  6  6]\n",
      " [ 7  8  9 10 11 12]]\n"
     ]
    }
   ],
   "source": [
    "# reshape the array to 2 x 6\n",
    "twoD = np.reshape(twoD, (2,6))\n",
    "print twoD\n"
   ]
  },
  {
   "cell_type": "code",
   "execution_count": 72,
   "metadata": {
    "collapsed": false
   },
   "outputs": [
    {
     "name": "stdout",
     "output_type": "stream",
     "text": [
      "[[ 2  5  3  4  6  6  7  8  9 10 11 12]]\n"
     ]
    }
   ],
   "source": [
    "# reshape the array to 1 x 12\n",
    "twoD = np.reshape(twoD, (1,12))\n",
    "print twoD"
   ]
  },
  {
   "cell_type": "code",
   "execution_count": 73,
   "metadata": {
    "collapsed": false
   },
   "outputs": [],
   "source": [
    "# transpose the array\n",
    "twoD = np.transpose(twoD)"
   ]
  },
  {
   "cell_type": "code",
   "execution_count": 88,
   "metadata": {
    "collapsed": false
   },
   "outputs": [
    {
     "name": "stdout",
     "output_type": "stream",
     "text": [
      "[[ 2]\n",
      " [ 5]\n",
      " [ 3]\n",
      " [ 4]\n",
      " [ 6]\n",
      " [ 6]\n",
      " [ 7]\n",
      " [ 8]\n",
      " [ 9]\n",
      " [10]\n",
      " [11]\n",
      " [12]]\n"
     ]
    },
    {
     "data": {
      "text/plain": [
       "6"
      ]
     },
     "execution_count": 88,
     "metadata": {},
     "output_type": "execute_result"
    }
   ],
   "source": [
    "# find 5th val\n",
    "print twoD\n",
    "\n",
    "twoD[5-1,0]"
   ]
  },
  {
   "cell_type": "code",
   "execution_count": 87,
   "metadata": {
    "collapsed": false
   },
   "outputs": [
    {
     "data": {
      "text/plain": [
       "11"
      ]
     },
     "execution_count": 87,
     "metadata": {},
     "output_type": "execute_result"
    }
   ],
   "source": [
    "# find 2nd to last\n",
    "twoD[len(twoD) - 2,0]\n"
   ]
  },
  {
   "cell_type": "code",
   "execution_count": 116,
   "metadata": {
    "collapsed": false
   },
   "outputs": [
    {
     "name": "stdout",
     "output_type": "stream",
     "text": [
      "[5 3 4]\n"
     ]
    }
   ],
   "source": [
    "# find elements 2 up to 5\n",
    "print twoD[1:4,0]"
   ]
  },
  {
   "cell_type": "code",
   "execution_count": 76,
   "metadata": {
    "collapsed": false
   },
   "outputs": [
    {
     "name": "stdout",
     "output_type": "stream",
     "text": [
      "[2, 5, 3, 4]\n"
     ]
    }
   ],
   "source": []
  },
  {
   "cell_type": "code",
   "execution_count": 151,
   "metadata": {
    "collapsed": false
   },
   "outputs": [
    {
     "name": "stdout",
     "output_type": "stream",
     "text": [
      "[2 5 3 6]\n"
     ]
    }
   ],
   "source": [
    "# 1,2,3,6\n",
    "index = [0,1,2,5]\n",
    "print twoD[[0,1,2,5],0]\n"
   ]
  },
  {
   "cell_type": "code",
   "execution_count": 125,
   "metadata": {
    "collapsed": false
   },
   "outputs": [
    {
     "name": "stdout",
     "output_type": "stream",
     "text": [
      "[ 5  6  6  7  8  9 10 11 12]\n"
     ]
    }
   ],
   "source": [
    "# find values in x > 4\n",
    "print twoD[twoD > 4]\n"
   ]
  },
  {
   "cell_type": "code",
   "execution_count": 158,
   "metadata": {
    "collapsed": false
   },
   "outputs": [
    {
     "name": "stdout",
     "output_type": "stream",
     "text": [
      "[[[ 2  5]\n",
      "  [ 3  4]\n",
      "  [ 6  6]]\n",
      "\n",
      " [[ 7  8]\n",
      "  [ 9 10]\n",
      "  [11 12]]]\n",
      "[ 5  6  6  7  8  9 10 11 12]\n",
      "5th value\n",
      "6\n",
      "2nd to last\n",
      "11\n",
      "2nd element to 5th element\n",
      "[[3 4 6 6]]\n",
      "elements 1,2,3,6\n",
      "[[[2 5]\n",
      "  [3 4]\n",
      "  [6 6]]\n",
      "\n",
      " [[2 5]\n",
      "  [3 4]\n",
      "  [6 6]]]\n",
      "[ 5  6  6  7  8  9 10 11 12]\n"
     ]
    }
   ],
   "source": [
    "# 3D array\n",
    "threeD = np.reshape(twoD,(2,3,2))\n",
    "print threeD\n",
    "print threeD[threeD > 4]\n",
    "\n",
    "print '5th value'\n",
    "print threeD[0][2,0]\n",
    "\n",
    "print '2nd to last'\n",
    "print threeD[1][2,0]\n",
    "\n",
    "print '2nd element to 5th element'\n",
    "print np.reshape(threeD[0][1:4],(1,4))\n",
    "\n",
    "print 'elements 1,2,3,6' # gave up on this part for now\n",
    "print threeD[[0]][[0,0]]\n",
    "\n",
    "# elements that are >4\n",
    "print threeD[threeD > 4]"
   ]
  },
  {
   "cell_type": "code",
   "execution_count": null,
   "metadata": {
    "collapsed": false
   },
   "outputs": [],
   "source": []
  },
  {
   "cell_type": "code",
   "execution_count": null,
   "metadata": {
    "collapsed": true
   },
   "outputs": [],
   "source": []
  }
 ],
 "metadata": {
  "anaconda-cloud": {},
  "kernelspec": {
   "display_name": "Python [default]",
   "language": "python",
   "name": "python2"
  },
  "language_info": {
   "codemirror_mode": {
    "name": "ipython",
    "version": 2
   },
   "file_extension": ".py",
   "mimetype": "text/x-python",
   "name": "python",
   "nbconvert_exporter": "python",
   "pygments_lexer": "ipython2",
   "version": "2.7.12"
  }
 },
 "nbformat": 4,
 "nbformat_minor": 0
}
